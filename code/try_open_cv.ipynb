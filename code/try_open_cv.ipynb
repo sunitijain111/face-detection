{
 "cells": [
  {
   "cell_type": "code",
   "execution_count": 1,
   "metadata": {},
   "outputs": [],
   "source": [
    "import cv2 as cv2\n",
    "img= cv2.imread('pic2.png',-1)\n",
    "#cv2.imshow('image2', img)\n",
    "#cv2.waitKey(0) \n",
    "#cv2.destroyAllWindows()"
   ]
  },
  {
   "cell_type": "code",
   "execution_count": 2,
   "metadata": {},
   "outputs": [
    {
     "name": "stdout",
     "output_type": "stream",
     "text": [
      "252 216\n"
     ]
    },
    {
     "data": {
      "text/plain": [
       "\"cv2.imshow('image3', img)\\ncv2.waitKey(0) \\ncv2.destroyAllWindows()\""
      ]
     },
     "execution_count": 2,
     "metadata": {},
     "output_type": "execute_result"
    }
   ],
   "source": [
    "cascade_face = cv2.CascadeClassifier(cv2.data.haarcascades +'haarcascade_frontalface_default.xml') \n",
    "cascade_smile = cv2.CascadeClassifier(cv2.data.haarcascades +'haarcascade_smile.xml')\n",
    "grayscale = cv2.cvtColor(img, cv2.COLOR_BGR2GRAY) \n",
    "face = cascade_face.detectMultiScale(grayscale, 1.3, 5)\n",
    "x_face, y_face, w_face, h_face= 0,0,0,0\n",
    "for (a,b,c,d) in face:\n",
    "  x_face, y_face, w_face, h_face= a,b,c,d  \n",
    "print(x_face, y_face)\n",
    "cv2.rectangle(img, (x_face, y_face), (x_face+w_face, y_face+h_face), (255, 130, 225), 2)\n",
    "\"\"\"cv2.imshow('image3', img)\n",
    "cv2.waitKey(0) \n",
    "cv2.destroyAllWindows()\"\"\""
   ]
  },
  {
   "cell_type": "code",
   "execution_count": 3,
   "metadata": {},
   "outputs": [],
   "source": [
    "img_wig= cv2.imread('wig.png',-1)\n",
    "#cv2.imshow('image2',img_wig )\n",
    "#cv2.waitKey(0) \n",
    "#cv2.destroyAllWindows()"
   ]
  },
  {
   "cell_type": "code",
   "execution_count": 4,
   "metadata": {},
   "outputs": [
    {
     "name": "stdout",
     "output_type": "stream",
     "text": [
      "[246 246 246]\n"
     ]
    }
   ],
   "source": [
    "import numpy as np\n",
    "frame= img_wig\n",
    "temp_col= frame[10,10]\n",
    "print(temp_col)"
   ]
  },
  {
   "cell_type": "code",
   "execution_count": 5,
   "metadata": {},
   "outputs": [],
   "source": [
    "w,h,temp= frame.shape\n",
    "for x in range(w):\n",
    "    for y in range(h):\n",
    "      try:  \n",
    "        a,b,c= frame[x,y]\n",
    "        if a>=200 and b>= 200 and c>=200:\n",
    "            frame[x,y]=[0,0,0]\n",
    "        #print(a,b,c)\n",
    "        #print(\"lol\")\n",
    "      except IndexError:\n",
    "        #print('naa')\n",
    "        continue"
   ]
  },
  {
   "cell_type": "code",
   "execution_count": 6,
   "metadata": {},
   "outputs": [],
   "source": [
    "# it works\n",
    "#cv2.imshow('image2',frame )\n",
    "#cv2.waitKey(0) \n",
    "#cv2.destroyAllWindows()\n",
    "#img_wig= frame"
   ]
  },
  {
   "cell_type": "code",
   "execution_count": 7,
   "metadata": {},
   "outputs": [],
   "source": [
    "temp= img_wig"
   ]
  },
  {
   "cell_type": "code",
   "execution_count": 8,
   "metadata": {},
   "outputs": [],
   "source": [
    "#img_wig= temp\n",
    "width, depth, _= img_wig.shape\n",
    "expected_width= w_face+ w_face/5\n",
    "ratio= expected_width/width\n",
    "width= int(ratio* width)\n",
    "depth= int(ratio* depth)\n",
    "img_wig= cv2.resize(img_wig, (width, depth))\n",
    "width, depth, _= img_wig.shape\n",
    "expected_width= w_face+ w_face/5\n",
    "ratio= expected_width/width\n",
    "#print(ratio)\n",
    "width= int(ratio* width)\n",
    "depth= int(ratio* depth)\n",
    "img_wig= cv2.resize(img_wig, (width, depth))"
   ]
  },
  {
   "cell_type": "code",
   "execution_count": null,
   "metadata": {},
   "outputs": [],
   "source": []
  },
  {
   "cell_type": "code",
   "execution_count": 9,
   "metadata": {},
   "outputs": [],
   "source": [
    "cv2.imshow('image2',img_wig )\n",
    "cv2.waitKey(0) \n",
    "cv2.destroyAllWindows()"
   ]
  },
  {
   "cell_type": "code",
   "execution_count": 10,
   "metadata": {},
   "outputs": [],
   "source": [
    "centre_x= x_face+ w_face/2\n",
    "x_wig= int(centre_x-width/2)\n",
    "unit_y= depth/6\n",
    "y_wig= int(y_face- unit_y)\n"
   ]
  },
  {
   "cell_type": "code",
   "execution_count": 11,
   "metadata": {},
   "outputs": [],
   "source": [
    "\n",
    "if x_wig<0:\n",
    "    x_width= centre_x\n",
    "    width= centre_x\n",
    "    img_wig= cv2.resize(img_wig, (x_width, depth))\n",
    "if y_wig<0    :\n",
    "    y_dept= int(y_face*5/2)\n",
    "    depth= y_dept\n",
    "    img_wig= cv2.resize(img_wig,(img_wig.shape[0], depth))\n",
    "y2=int(y_wig+depth)\n",
    "if(y2>= img.shape[1]):\n",
    "    y2= img.shape[1]\n",
    "x2= int(x_wig+width)\n",
    "if(x2>= img.shape[0]):\n",
    "    x2= img.shape[0]\n",
    "\n"
   ]
  },
  {
   "cell_type": "code",
   "execution_count": 12,
   "metadata": {},
   "outputs": [],
   "source": [
    "roi_wig= img[y_wig: y2, x_wig: x2]\n",
    "img_wig= img_wig[0: y2, 0:x2]"
   ]
  },
  {
   "cell_type": "code",
   "execution_count": 13,
   "metadata": {},
   "outputs": [],
   "source": [
    "temp= img"
   ]
  },
  {
   "cell_type": "code",
   "execution_count": 14,
   "metadata": {},
   "outputs": [],
   "source": [
    "img= temp\n",
    "dst = cv2.addWeighted(roi_wig, 0.8, img_wig, 0.8, 0)\n",
    "img[y_wig: y2, x_wig: x2]= dst\n",
    "cv2.imshow('image2',img )\n",
    "cv2.waitKey(0) \n",
    "cv2.destroyAllWindows()"
   ]
  },
  {
   "cell_type": "code",
   "execution_count": null,
   "metadata": {},
   "outputs": [],
   "source": []
  },
  {
   "cell_type": "code",
   "execution_count": null,
   "metadata": {},
   "outputs": [],
   "source": []
  },
  {
   "cell_type": "code",
   "execution_count": null,
   "metadata": {},
   "outputs": [],
   "source": []
  },
  {
   "cell_type": "code",
   "execution_count": null,
   "metadata": {},
   "outputs": [],
   "source": []
  },
  {
   "cell_type": "code",
   "execution_count": null,
   "metadata": {},
   "outputs": [],
   "source": []
  }
 ],
 "metadata": {
  "kernelspec": {
   "display_name": "Python 3",
   "language": "python",
   "name": "python3"
  },
  "language_info": {
   "codemirror_mode": {
    "name": "ipython",
    "version": 3
   },
   "file_extension": ".py",
   "mimetype": "text/x-python",
   "name": "python",
   "nbconvert_exporter": "python",
   "pygments_lexer": "ipython3",
   "version": "3.7.3"
  }
 },
 "nbformat": 4,
 "nbformat_minor": 2
}
