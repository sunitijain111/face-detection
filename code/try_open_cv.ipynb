{
 "cells": [
  {
   "cell_type": "code",
   "execution_count": 80,
   "metadata": {},
   "outputs": [],
   "source": [
    "\n",
    "import cv2\n",
    "img_tongue= cv2.imread('tongue.png',-1)\n",
    "cv2.imshow('image', img_tongue) \n",
    "cv2.waitKey(0) \n",
    "cv2.destroyAllWindows()"
   ]
  },
  {
   "cell_type": "code",
   "execution_count": 81,
   "metadata": {},
   "outputs": [],
   "source": [
    "\n",
    "\n",
    "img= cv2.imread('pic2.png',-1)\n",
    "cv2.imshow('image2', img)\n",
    "\n",
    "\n",
    "cv2.waitKey(0) \n",
    "cv2.destroyAllWindows()"
   ]
  },
  {
   "cell_type": "code",
   "execution_count": 82,
   "metadata": {},
   "outputs": [],
   "source": [
    "cascade_face = cv2.CascadeClassifier(cv2.data.haarcascades +'haarcascade_frontalface_default.xml') \n",
    "cascade_smile = cv2.CascadeClassifier(cv2.data.haarcascades +'haarcascade_smile.xml')\n"
   ]
  },
  {
   "cell_type": "code",
   "execution_count": 83,
   "metadata": {},
   "outputs": [],
   "source": [
    "grayscale = cv2.cvtColor(img, cv2.COLOR_BGR2GRAY) \n",
    "\n"
   ]
  },
  {
   "cell_type": "code",
   "execution_count": 84,
   "metadata": {},
   "outputs": [],
   "source": [
    "face = cascade_face.detectMultiScale(grayscale, 1.3, 5)"
   ]
  },
  {
   "cell_type": "code",
   "execution_count": 85,
   "metadata": {},
   "outputs": [],
   "source": [
    "x_face, y_face, w_face, h_face= 0,0,0,0"
   ]
  },
  {
   "cell_type": "code",
   "execution_count": 86,
   "metadata": {},
   "outputs": [],
   "source": [
    "for (a,b,c,d) in face:\n",
    "  x_face, y_face, w_face, h_face= a,b,c,d  "
   ]
  },
  {
   "cell_type": "code",
   "execution_count": 87,
   "metadata": {},
   "outputs": [
    {
     "name": "stdout",
     "output_type": "stream",
     "text": [
      "252 216\n"
     ]
    }
   ],
   "source": [
    "print(x_face, y_face)"
   ]
  },
  {
   "cell_type": "code",
   "execution_count": 88,
   "metadata": {},
   "outputs": [],
   "source": [
    "cv2.rectangle(img, (x_face, y_face), (x_face+w_face, y_face+h_face), (255, 130, 225), 2)\n",
    "cv2.imshow('image3', img)\n",
    "cv2.waitKey(0) \n",
    "cv2.destroyAllWindows()"
   ]
  },
  {
   "cell_type": "code",
   "execution_count": 89,
   "metadata": {},
   "outputs": [],
   "source": [
    " #area of intreset in gray image\n",
    "ri_grayscale = grayscale[y_face:y_face+h_face, x_face:x_face+w_face]\n",
    "        \n",
    "#area of intrest in cooloured image\n",
    "ri_color = img[y_face:y_face+h_face, x_face:x_face+w_face] \n",
    "smile = cascade_smile.detectMultiScale(ri_grayscale, 1.7, 30)"
   ]
  },
  {
   "cell_type": "code",
   "execution_count": 90,
   "metadata": {},
   "outputs": [
    {
     "name": "stdout",
     "output_type": "stream",
     "text": [
      "46 121 104 52\n",
      "46 121 104 52\n"
     ]
    }
   ],
   "source": [
    "x_smile, y_smile, w_smile, h_smile=0,0,0,0\n",
    "for (a,b,c,d) in smile: \n",
    "    x_smile, y_smile, w_smile, h_smile= a,b,c,d\n",
    "    print(x_smile, y_smile, w_smile, h_smile)\n",
    "print(x_smile, y_smile, w_smile, h_smile)    \n",
    "cv2.rectangle(ri_color,(x_smile, y_smile),(x_smile+w_smile, y_smile+h_smile), (255, 0,225), 2)    \n",
    "#roi_smile= ri_color[y_smile:y_smile+20, x_smile:x_smile+20 ]\n",
    "ri_color[y_smile:y_smile+20, x_smile:x_smile+20 ]=(255,255,255)\n",
    "cv2.imshow('image3', img)\n",
    "cv2.waitKey(0) \n",
    "cv2.destroyAllWindows()"
   ]
  },
  {
   "cell_type": "code",
   "execution_count": null,
   "metadata": {},
   "outputs": [],
   "source": []
  },
  {
   "cell_type": "code",
   "execution_count": 91,
   "metadata": {},
   "outputs": [
    {
     "name": "stdout",
     "output_type": "stream",
     "text": [
      "46 121 104 52\n",
      "298 337 104 52\n"
     ]
    }
   ],
   "source": [
    "print(x_smile, y_smile, w_smile, h_smile)\n",
    "print(x_face+x_smile,y_face+ y_smile, w_smile, h_smile)"
   ]
  },
  {
   "cell_type": "code",
   "execution_count": 92,
   "metadata": {},
   "outputs": [
    {
     "name": "stdout",
     "output_type": "stream",
     "text": [
      "227   222\n"
     ]
    }
   ],
   "source": [
    "dept_tong, width_tong= img_tongue.shape[:2]\n",
    "print(dept_tong,\" \",width_tong)"
   ]
  },
  {
   "cell_type": "code",
   "execution_count": 93,
   "metadata": {},
   "outputs": [
    {
     "name": "stdout",
     "output_type": "stream",
     "text": [
      "34 35\n"
     ]
    }
   ],
   "source": [
    "width_for_tongue= w_smile/3\n",
    "scale=   width_for_tongue/width_tong\n",
    "depth_for_tongue= scale* dept_tong\n",
    "width_for_tongue = int(width_for_tongue)\n",
    "depth_for_tongue = int(depth_for_tongue)\n",
    "print(width_for_tongue, depth_for_tongue)        "
   ]
  },
  {
   "cell_type": "code",
   "execution_count": 94,
   "metadata": {},
   "outputs": [],
   "source": [
    "img_tongue= cv2.resize(img_tongue, (width_for_tongue, depth_for_tongue))\n",
    "cv2.imshow('image', img_tongue) \n",
    "cv2.waitKey(0) \n",
    "cv2.destroyAllWindows()"
   ]
  },
  {
   "cell_type": "code",
   "execution_count": 95,
   "metadata": {},
   "outputs": [
    {
     "name": "stdout",
     "output_type": "stream",
     "text": [
      "98 147\n"
     ]
    },
    {
     "data": {
      "text/plain": [
       "\"ri_color[centre_smile_y:centre_smile_y+10,centre_smile_x:centre_smile_x+10 ]=(0,255,0)\\ncv2.imshow('image3', img)\\ncv2.waitKey(0) \\ncv2.destroyAllWindows()\""
      ]
     },
     "execution_count": 95,
     "metadata": {},
     "output_type": "execute_result"
    }
   ],
   "source": [
    "centre_smile_x= int(x_smile+ w_smile/2)\n",
    "centre_smile_y= int(y_smile+ h_smile/2)\n",
    "print(centre_smile_x, centre_smile_y)\n",
    "\"\"\"ri_color[centre_smile_y:centre_smile_y+10,centre_smile_x:centre_smile_x+10 ]=(0,255,0)\n",
    "cv2.imshow('image3', img)\n",
    "cv2.waitKey(0) \n",
    "cv2.destroyAllWindows()\"\"\""
   ]
  },
  {
   "cell_type": "code",
   "execution_count": 96,
   "metadata": {},
   "outputs": [
    {
     "name": "stdout",
     "output_type": "stream",
     "text": [
      "81 147\n"
     ]
    }
   ],
   "source": [
    "x_tongue=int( centre_smile_x- width_for_tongue/2)\n",
    "y_tongue= int(centre_smile_y)\n",
    "print(x_tongue, y_tongue)"
   ]
  },
  {
   "cell_type": "code",
   "execution_count": 97,
   "metadata": {},
   "outputs": [],
   "source": [
    "roi_tongue= ri_color[y_tongue: y_tongue+depth_for_tongue, x_tongue: x_tongue+width_for_tongue]\n",
    "ri_color[y_tongue: y_tongue+depth_for_tongue, x_tongue: x_tongue+width_for_tongue]= (255,255,255)\n",
    "cv2.imshow('image4', img)\n",
    "cv2.waitKey(0) \n",
    "cv2.destroyAllWindows()"
   ]
  },
  {
   "cell_type": "code",
   "execution_count": 100,
   "metadata": {},
   "outputs": [],
   "source": [
    "#alpha blending\n",
    "cv2.addWeighted(roi_tongue, 0.2,img_tongue, 0.8, 0)\n",
    "temp= cv2.bitwise_and(roi_tongue,  img_tongue)\n",
    "ri_color[y_tongue: y_tongue+depth_for_tongue, x_tongue: x_tongue+width_for_tongue]=temp\n",
    "cv2.imshow('image4', img)\n",
    "cv2.waitKey(0) \n",
    "cv2.destroyAllWindows()\n",
    "\n",
    "\n",
    "\n",
    " "
   ]
  },
  {
   "cell_type": "code",
   "execution_count": null,
   "metadata": {},
   "outputs": [],
   "source": []
  },
  {
   "cell_type": "code",
   "execution_count": null,
   "metadata": {},
   "outputs": [],
   "source": []
  }
 ],
 "metadata": {
  "kernelspec": {
   "display_name": "Python 3",
   "language": "python",
   "name": "python3"
  },
  "language_info": {
   "codemirror_mode": {
    "name": "ipython",
    "version": 3
   },
   "file_extension": ".py",
   "mimetype": "text/x-python",
   "name": "python",
   "nbconvert_exporter": "python",
   "pygments_lexer": "ipython3",
   "version": "3.7.3"
  }
 },
 "nbformat": 4,
 "nbformat_minor": 2
}
