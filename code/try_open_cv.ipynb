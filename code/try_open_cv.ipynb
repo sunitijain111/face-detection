{
 "cells": [
  {
   "cell_type": "code",
   "execution_count": 1,
   "metadata": {},
   "outputs": [],
   "source": [
    "import cv2\n",
    "img_tongue= cv2.imread('tongue.png',-1)\n",
    "#cv2.imshow('image', img_tongue) \n",
    "#cv2.waitKey(0) \n",
    "#cv2.destroyAllWindows()"
   ]
  },
  {
   "cell_type": "code",
   "execution_count": 2,
   "metadata": {},
   "outputs": [],
   "source": [
    "\n",
    "\n",
    "img= cv2.imread('pic2.png',-1)\n",
    "#cv2.imshow('image2', img)\n",
    "#cv2.waitKey(0) \n",
    "#cv2.destroyAllWindows()"
   ]
  },
  {
   "cell_type": "code",
   "execution_count": 3,
   "metadata": {},
   "outputs": [],
   "source": [
    "cascade_face = cv2.CascadeClassifier(cv2.data.haarcascades +'haarcascade_frontalface_default.xml') \n",
    "cascade_smile = cv2.CascadeClassifier(cv2.data.haarcascades +'haarcascade_smile.xml')\n"
   ]
  },
  {
   "cell_type": "code",
   "execution_count": 4,
   "metadata": {},
   "outputs": [],
   "source": [
    "grayscale = cv2.cvtColor(img, cv2.COLOR_BGR2GRAY) \n",
    "\n"
   ]
  },
  {
   "cell_type": "code",
   "execution_count": 5,
   "metadata": {},
   "outputs": [],
   "source": [
    "face = cascade_face.detectMultiScale(grayscale, 1.3, 5)"
   ]
  },
  {
   "cell_type": "code",
   "execution_count": 6,
   "metadata": {},
   "outputs": [],
   "source": [
    "x_face, y_face, w_face, h_face= 0,0,0,0"
   ]
  },
  {
   "cell_type": "code",
   "execution_count": 7,
   "metadata": {},
   "outputs": [],
   "source": [
    "for (a,b,c,d) in face:\n",
    "  x_face, y_face, w_face, h_face= a,b,c,d  "
   ]
  },
  {
   "cell_type": "code",
   "execution_count": 8,
   "metadata": {},
   "outputs": [
    {
     "name": "stdout",
     "output_type": "stream",
     "text": [
      "252 216\n"
     ]
    }
   ],
   "source": [
    "print(x_face, y_face)"
   ]
  },
  {
   "cell_type": "code",
   "execution_count": 9,
   "metadata": {},
   "outputs": [
    {
     "data": {
      "text/plain": [
       "\"cv2.imshow('image3', img)\\ncv2.waitKey(0) \\ncv2.destroyAllWindows()\""
      ]
     },
     "execution_count": 9,
     "metadata": {},
     "output_type": "execute_result"
    }
   ],
   "source": [
    "cv2.rectangle(img, (x_face, y_face), (x_face+w_face, y_face+h_face), (255, 130, 225), 2)\n",
    "\"\"\"cv2.imshow('image3', img)\n",
    "cv2.waitKey(0) \n",
    "cv2.destroyAllWindows()\"\"\""
   ]
  },
  {
   "cell_type": "code",
   "execution_count": 10,
   "metadata": {},
   "outputs": [],
   "source": [
    " #area of intreset in gray image\n",
    "ri_grayscale = grayscale[y_face:y_face+h_face, x_face:x_face+w_face]\n",
    "        \n",
    "#area of intrest in cooloured image\n",
    "ri_color = img[y_face:y_face+h_face, x_face:x_face+w_face] \n",
    "smile = cascade_smile.detectMultiScale(ri_grayscale, 1.7, 30)"
   ]
  },
  {
   "cell_type": "code",
   "execution_count": 11,
   "metadata": {},
   "outputs": [],
   "source": [
    "ear_width= w_face"
   ]
  },
  {
   "cell_type": "code",
   "execution_count": 17,
   "metadata": {},
   "outputs": [],
   "source": [
    "import numpy as np\n",
    "img_ear= cv2.imread('bunny4.png',-1)\n",
    "h,w,c= img_ear.shape\n",
    "ratio= ear_width/w\n",
    "w= int(w*ratio)\n",
    "d= int(h*ratio)\n",
    "img_ear= cv2.resize(img_ear, (w,d))\n",
    "\n",
    "cv2.imshow('image3',img_ear)\n",
    "cv2.waitKey(0) \n",
    "cv2.destroyAllWindows()\n"
   ]
  },
  {
   "cell_type": "code",
   "execution_count": 18,
   "metadata": {},
   "outputs": [],
   "source": [
    "roi_ear= img[y_face: y_face+d,x_face:x_face+w]"
   ]
  },
  {
   "cell_type": "code",
   "execution_count": null,
   "metadata": {},
   "outputs": [],
   "source": []
  },
  {
   "cell_type": "code",
   "execution_count": 19,
   "metadata": {},
   "outputs": [],
   "source": [
    "img_temp = img"
   ]
  },
  {
   "cell_type": "code",
   "execution_count": 20,
   "metadata": {},
   "outputs": [],
   "source": [
    "img= img_temp\n",
    "dst = cv2.addWeighted(roi_ear, 0.9, img_ear, 0.5, 0)\n",
    "img[y_face: y_face+d,x_face:x_face+w]= dst\n",
    "cv2.imshow('Video', img)\n",
    "cv2.waitKey(0) \n",
    "cv2.destroyAllWindows()"
   ]
  },
  {
   "cell_type": "code",
   "execution_count": null,
   "metadata": {},
   "outputs": [],
   "source": [
    "x_smile, y_smile, w_smile, h_smile=0,0,0,0\n",
    "for (a,b,c,d) in smile: \n",
    "    x_smile, y_smile, w_smile, h_smile= a,b,c,d\n",
    "    print(x_smile, y_smile, w_smile, h_smile)\n",
    "print(x_smile, y_smile, w_smile, h_smile)    \n",
    "cv2.rectangle(ri_color,(x_smile, y_smile),(x_smile+w_smile, y_smile+h_smile), (255, 0,225), 2)    \n",
    "#roi_smile= ri_color[y_smile:y_smile+20, x_smile:x_smile+20 ]\n",
    "ri_color[y_smile:y_smile+20, x_smile:x_smile+20 ]=(255,255,255)\n",
    "cv2.imshow('image3', img)\n",
    "cv2.waitKey(0) \n",
    "cv2.destroyAllWindows()"
   ]
  },
  {
   "cell_type": "code",
   "execution_count": null,
   "metadata": {},
   "outputs": [],
   "source": []
  },
  {
   "cell_type": "code",
   "execution_count": 111,
   "metadata": {},
   "outputs": [
    {
     "name": "stdout",
     "output_type": "stream",
     "text": [
      "46 121 104 52\n",
      "298 337 104 52\n"
     ]
    }
   ],
   "source": [
    "print(x_smile, y_smile, w_smile, h_smile)\n",
    "print(x_face+x_smile,y_face+ y_smile, w_smile, h_smile)"
   ]
  },
  {
   "cell_type": "code",
   "execution_count": 112,
   "metadata": {},
   "outputs": [
    {
     "name": "stdout",
     "output_type": "stream",
     "text": [
      "227   222\n"
     ]
    }
   ],
   "source": [
    "dept_tong, width_tong= img_tongue.shape[:2]\n",
    "print(dept_tong,\" \",width_tong)"
   ]
  },
  {
   "cell_type": "code",
   "execution_count": 113,
   "metadata": {},
   "outputs": [
    {
     "name": "stdout",
     "output_type": "stream",
     "text": [
      "34 35\n"
     ]
    }
   ],
   "source": [
    "width_for_tongue= w_smile/3\n",
    "scale=   width_for_tongue/width_tong\n",
    "depth_for_tongue= scale* dept_tong\n",
    "width_for_tongue = int(width_for_tongue)\n",
    "depth_for_tongue = int(depth_for_tongue)\n",
    "print(width_for_tongue, depth_for_tongue)        "
   ]
  },
  {
   "cell_type": "code",
   "execution_count": 114,
   "metadata": {},
   "outputs": [],
   "source": [
    "img_tongue= cv2.resize(img_tongue, (width_for_tongue, depth_for_tongue))\n",
    "cv2.imshow('image', img_tongue) \n",
    "cv2.waitKey(0) \n",
    "cv2.destroyAllWindows()"
   ]
  },
  {
   "cell_type": "code",
   "execution_count": 115,
   "metadata": {},
   "outputs": [
    {
     "name": "stdout",
     "output_type": "stream",
     "text": [
      "98 147\n"
     ]
    },
    {
     "data": {
      "text/plain": [
       "\"ri_color[centre_smile_y:centre_smile_y+10,centre_smile_x:centre_smile_x+10 ]=(0,255,0)\\ncv2.imshow('image3', img)\\ncv2.waitKey(0) \\ncv2.destroyAllWindows()\""
      ]
     },
     "execution_count": 115,
     "metadata": {},
     "output_type": "execute_result"
    }
   ],
   "source": [
    "centre_smile_x= int(x_smile+ w_smile/2)\n",
    "centre_smile_y= int(y_smile+ h_smile/2)\n",
    "print(centre_smile_x, centre_smile_y)\n",
    "\"\"\"ri_color[centre_smile_y:centre_smile_y+10,centre_smile_x:centre_smile_x+10 ]=(0,255,0)\n",
    "cv2.imshow('image3', img)\n",
    "cv2.waitKey(0) \n",
    "cv2.destroyAllWindows()\"\"\""
   ]
  },
  {
   "cell_type": "code",
   "execution_count": 116,
   "metadata": {},
   "outputs": [
    {
     "name": "stdout",
     "output_type": "stream",
     "text": [
      "81 147\n"
     ]
    }
   ],
   "source": [
    "x_tongue=int( centre_smile_x- width_for_tongue/2)\n",
    "y_tongue= int(centre_smile_y)\n",
    "print(x_tongue, y_tongue)"
   ]
  },
  {
   "cell_type": "code",
   "execution_count": 117,
   "metadata": {},
   "outputs": [],
   "source": [
    "roi_tongue= ri_color[y_tongue: y_tongue+depth_for_tongue, x_tongue: x_tongue+width_for_tongue]\n",
    "  "
   ]
  },
  {
   "cell_type": "code",
   "execution_count": 66,
   "metadata": {},
   "outputs": [],
   "source": [
    "img2gray = cv2.cvtColor(img_tongue,cv2.COLOR_BGR2GRAY)\n",
    "ret, mask = cv2.threshold(img2gray, 10, 255, cv2.THRESH_BINARY)\n",
    "mask_inv = cv2.bitwise_not(mask) "
   ]
  },
  {
   "cell_type": "code",
   "execution_count": 67,
   "metadata": {},
   "outputs": [],
   "source": [
    "img1_bg = cv2.bitwise_and(roi_tongue,roi_tongue,mask = mask_inv)\n",
    "cv2.imshow('Video', img1_bg)\n",
    "cv2.waitKey(0) \n",
    "cv2.destroyAllWindows()"
   ]
  },
  {
   "cell_type": "code",
   "execution_count": 68,
   "metadata": {},
   "outputs": [],
   "source": [
    "img2_fg = cv2.bitwise_and(img_tongue,img_tongue,mask = mask)\n",
    "cv2.imshow('Video', img2_fg)\n",
    "cv2.waitKey(0) \n",
    "cv2.destroyAllWindows()"
   ]
  },
  {
   "cell_type": "code",
   "execution_count": 99,
   "metadata": {},
   "outputs": [
    {
     "ename": "IndexError",
     "evalue": "index 35 is out of bounds for axis 0 with size 35",
     "output_type": "error",
     "traceback": [
      "\u001b[0;31m---------------------------------------------------------------------------\u001b[0m",
      "\u001b[0;31mIndexError\u001b[0m                                Traceback (most recent call last)",
      "\u001b[0;32m<ipython-input-99-01cad5bb0f0b>\u001b[0m in \u001b[0;36m<module>\u001b[0;34m\u001b[0m\n\u001b[1;32m      4\u001b[0m \u001b[0;32mfor\u001b[0m \u001b[0mi\u001b[0m \u001b[0;32min\u001b[0m \u001b[0mrange\u001b[0m\u001b[0;34m(\u001b[0m\u001b[0ma\u001b[0m\u001b[0;34m)\u001b[0m\u001b[0;34m:\u001b[0m\u001b[0;34m\u001b[0m\u001b[0;34m\u001b[0m\u001b[0m\n\u001b[1;32m      5\u001b[0m     \u001b[0;32mfor\u001b[0m \u001b[0mj\u001b[0m \u001b[0;32min\u001b[0m \u001b[0mrange\u001b[0m\u001b[0;34m(\u001b[0m\u001b[0mb\u001b[0m\u001b[0;34m)\u001b[0m\u001b[0;34m:\u001b[0m\u001b[0;34m\u001b[0m\u001b[0;34m\u001b[0m\u001b[0m\n\u001b[0;32m----> 6\u001b[0;31m         \u001b[0mimg_tongue\u001b[0m\u001b[0;34m[\u001b[0m\u001b[0ma\u001b[0m\u001b[0;34m,\u001b[0m\u001b[0mb\u001b[0m\u001b[0;34m]\u001b[0m\u001b[0;34m=\u001b[0m \u001b[0;34m(\u001b[0m\u001b[0;36m0\u001b[0m\u001b[0;34m,\u001b[0m\u001b[0;36m0\u001b[0m\u001b[0;34m,\u001b[0m\u001b[0;36m0\u001b[0m\u001b[0;34m)\u001b[0m\u001b[0;34m\u001b[0m\u001b[0;34m\u001b[0m\u001b[0m\n\u001b[0m",
      "\u001b[0;31mIndexError\u001b[0m: index 35 is out of bounds for axis 0 with size 35"
     ]
    }
   ],
   "source": []
  },
  {
   "cell_type": "code",
   "execution_count": 119,
   "metadata": {},
   "outputs": [],
   "source": [
    "# Put logo in ROI and modify the main image\n",
    "\n",
    "dst = cv2.addWeighted(roi_tongue, 0.5, img_tongue, 0.8, 0)\n",
    "ri_color[y_tongue: y_tongue+depth_for_tongue, x_tongue: x_tongue+width_for_tongue] = dst\n",
    "cv2.imshow('Video', img)\n",
    "cv2.waitKey(0) \n",
    "cv2.destroyAllWindows()\n"
   ]
  },
  {
   "cell_type": "code",
   "execution_count": null,
   "metadata": {},
   "outputs": [],
   "source": []
  },
  {
   "cell_type": "code",
   "execution_count": null,
   "metadata": {},
   "outputs": [],
   "source": []
  }
 ],
 "metadata": {
  "kernelspec": {
   "display_name": "Python 3",
   "language": "python",
   "name": "python3"
  },
  "language_info": {
   "codemirror_mode": {
    "name": "ipython",
    "version": 3
   },
   "file_extension": ".py",
   "mimetype": "text/x-python",
   "name": "python",
   "nbconvert_exporter": "python",
   "pygments_lexer": "ipython3",
   "version": "3.7.3"
  }
 },
 "nbformat": 4,
 "nbformat_minor": 2
}
